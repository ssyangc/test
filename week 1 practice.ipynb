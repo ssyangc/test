{
 "cells": [
  {
   "cell_type": "markdown",
   "id": "bd773bbb",
   "metadata": {},
   "source": [
    "# Week 1 Practice"
   ]
  },
  {
   "cell_type": "code",
   "execution_count": 28,
   "id": "56480607",
   "metadata": {
    "scrolled": true
   },
   "outputs": [
    {
     "data": {
      "text/plain": [
       "'Hello World!'"
      ]
     },
     "execution_count": 28,
     "metadata": {},
     "output_type": "execute_result"
    }
   ],
   "source": [
    "\"Hello World!\""
   ]
  },
  {
   "cell_type": "code",
   "execution_count": 29,
   "id": "92f8768b",
   "metadata": {},
   "outputs": [],
   "source": [
    "string1 = \"Hello World!\"\n",
    "\n",
    "string2 = \"Have a nice day!\""
   ]
  },
  {
   "cell_type": "code",
   "execution_count": 30,
   "id": "cadd5bb2",
   "metadata": {},
   "outputs": [
    {
     "data": {
      "text/plain": [
       "'Hello World!Have a nice day!'"
      ]
     },
     "execution_count": 30,
     "metadata": {},
     "output_type": "execute_result"
    }
   ],
   "source": [
    "string1 + string2"
   ]
  },
  {
   "cell_type": "code",
   "execution_count": 32,
   "id": "6095984c",
   "metadata": {},
   "outputs": [
    {
     "data": {
      "text/plain": [
       "'Hello World! Have a nice day!'"
      ]
     },
     "execution_count": 32,
     "metadata": {},
     "output_type": "execute_result"
    }
   ],
   "source": [
    "string1 + ' ' + string2"
   ]
  },
  {
   "cell_type": "markdown",
   "id": "93ba7133",
   "metadata": {},
   "source": [
    "1. item 1\n",
    "2. item 2\n",
    "67. item 3\n",
    "\n",
    "`` 1. item 1 ``\n",
    "\n",
    "*italics*\n",
    "\n",
    "**bold**\n",
    "\n",
    "$\\alpha$ : ``$\\alpha$``\n",
    "\n",
    "$\\omega$ : ``$\\omega$``\n",
    "\n",
    "$f(x) = \\sum_{t=0}^{\\infty}g_{t}(x)$ : ``$f(x) = \\sum_{t=0}^{\\infty}g_{t}(x)$``\n",
    "\n",
    "\n"
   ]
  },
  {
   "cell_type": "code",
   "execution_count": 2,
   "id": "7db77f53",
   "metadata": {},
   "outputs": [],
   "source": [
    "# import NumPy package\n",
    "import numpy as np\n",
    "\n",
    "#Define a NumPy 1D array\n",
    "A = np.array([1.0, 1.5, 32.1])"
   ]
  },
  {
   "cell_type": "code",
   "execution_count": 3,
   "id": "3a1e126f",
   "metadata": {},
   "outputs": [
    {
     "name": "stdout",
     "output_type": "stream",
     "text": [
      "[ 1.   1.5 32.1]\n"
     ]
    }
   ],
   "source": [
    "#Display to screen\n",
    "print(A)"
   ]
  },
  {
   "cell_type": "code",
   "execution_count": 4,
   "id": "8e9b9318",
   "metadata": {},
   "outputs": [
    {
     "data": {
      "text/plain": [
       "dtype('float64')"
      ]
     },
     "execution_count": 4,
     "metadata": {},
     "output_type": "execute_result"
    }
   ],
   "source": [
    "A.dtype"
   ]
  },
  {
   "cell_type": "code",
   "execution_count": 6,
   "id": "0e51d55e",
   "metadata": {},
   "outputs": [
    {
     "data": {
      "text/plain": [
       "(3,)"
      ]
     },
     "execution_count": 6,
     "metadata": {},
     "output_type": "execute_result"
    }
   ],
   "source": [
    "#Report dimension\n",
    "A.shape\n",
    "\n",
    "#flat array"
   ]
  },
  {
   "cell_type": "code",
   "execution_count": 7,
   "id": "5a359cac",
   "metadata": {},
   "outputs": [],
   "source": [
    "B = np.array([A, [0.0, 2.0, -1.0]])"
   ]
  },
  {
   "cell_type": "code",
   "execution_count": 17,
   "id": "ae89a890",
   "metadata": {},
   "outputs": [
    {
     "name": "stdout",
     "output_type": "stream",
     "text": [
      "[[ 1.   1.5 32.1]\n",
      " [ 0.   2.  -1. ]]\n"
     ]
    }
   ],
   "source": [
    "print(B)"
   ]
  },
  {
   "cell_type": "code",
   "execution_count": 14,
   "id": "9ca8f4ce",
   "metadata": {},
   "outputs": [
    {
     "data": {
      "text/plain": [
       "(2, 3)"
      ]
     },
     "execution_count": 14,
     "metadata": {},
     "output_type": "execute_result"
    }
   ],
   "source": [
    "B.shape"
   ]
  },
  {
   "cell_type": "code",
   "execution_count": 15,
   "id": "6b327b31",
   "metadata": {},
   "outputs": [
    {
     "data": {
      "text/plain": [
       "dtype('float64')"
      ]
     },
     "execution_count": 15,
     "metadata": {},
     "output_type": "execute_result"
    }
   ],
   "source": [
    "B.dtype"
   ]
  },
  {
   "cell_type": "code",
   "execution_count": 16,
   "id": "2627a05e",
   "metadata": {},
   "outputs": [],
   "source": [
    "B_list = B.tolist()"
   ]
  },
  {
   "cell_type": "code",
   "execution_count": 18,
   "id": "0ab7f4e8",
   "metadata": {},
   "outputs": [
    {
     "data": {
      "text/plain": [
       "dtype('float64')"
      ]
     },
     "execution_count": 18,
     "metadata": {},
     "output_type": "execute_result"
    }
   ],
   "source": [
    "B.dtype"
   ]
  },
  {
   "cell_type": "code",
   "execution_count": 19,
   "id": "9f9402cd",
   "metadata": {},
   "outputs": [
    {
     "data": {
      "text/plain": [
       "list"
      ]
     },
     "execution_count": 19,
     "metadata": {},
     "output_type": "execute_result"
    }
   ],
   "source": [
    "type(B_list)"
   ]
  },
  {
   "cell_type": "code",
   "execution_count": 20,
   "id": "d3464e63",
   "metadata": {},
   "outputs": [
    {
     "name": "stdout",
     "output_type": "stream",
     "text": [
      "[[ 1.   1.5 32.1]\n",
      " [ 0.   2.  -1. ]]\n"
     ]
    }
   ],
   "source": [
    "print(B)"
   ]
  },
  {
   "cell_type": "code",
   "execution_count": 21,
   "id": "7604aba3",
   "metadata": {},
   "outputs": [
    {
     "name": "stdout",
     "output_type": "stream",
     "text": [
      "[[1.0, 1.5, 32.1], [0.0, 2.0, -1.0]]\n"
     ]
    }
   ],
   "source": [
    "print(B_list)"
   ]
  },
  {
   "cell_type": "code",
   "execution_count": 22,
   "id": "65411516",
   "metadata": {},
   "outputs": [],
   "source": [
    "C = np.asarray(B_list)"
   ]
  },
  {
   "cell_type": "code",
   "execution_count": 23,
   "id": "a722ef07",
   "metadata": {},
   "outputs": [
    {
     "data": {
      "text/plain": [
       "numpy.ndarray"
      ]
     },
     "execution_count": 23,
     "metadata": {},
     "output_type": "execute_result"
    }
   ],
   "source": [
    "type(C)"
   ]
  },
  {
   "cell_type": "code",
   "execution_count": 24,
   "id": "10087e3a",
   "metadata": {},
   "outputs": [
    {
     "data": {
      "text/plain": [
       "numpy.ndarray"
      ]
     },
     "execution_count": 24,
     "metadata": {},
     "output_type": "execute_result"
    }
   ],
   "source": [
    "type(A)"
   ]
  },
  {
   "cell_type": "code",
   "execution_count": 11,
   "id": "acdc9755",
   "metadata": {},
   "outputs": [
    {
     "name": "stdout",
     "output_type": "stream",
     "text": [
      "Collecting package metadata (current_repodata.json): ...working... done\n",
      "Solving environment: ...working... done\n",
      "\n",
      "# All requested packages already installed.\n",
      "\n",
      "Retrieving notices: ...working... done\n",
      "\n",
      "Note: you may need to restart the kernel to use updated packages.\n"
     ]
    },
    {
     "name": "stderr",
     "output_type": "stream",
     "text": [
      "\n",
      "\n",
      "==> WARNING: A newer version of conda exists. <==\n",
      "  current version: 22.9.0\n",
      "  latest version: 23.7.3\n",
      "\n",
      "Please update conda by running\n",
      "\n",
      "    $ conda update -n base -c defaults conda\n",
      "\n",
      "\n"
     ]
    }
   ],
   "source": [
    "conda install -c conda-forge rise"
   ]
  },
  {
   "cell_type": "code",
   "execution_count": 7,
   "id": "7c6bd285",
   "metadata": {},
   "outputs": [],
   "source": [
    "y = \"Hello world, this is an infinite series\""
   ]
  },
  {
   "cell_type": "code",
   "execution_count": 21,
   "id": "167d3a44",
   "metadata": {},
   "outputs": [],
   "source": [
    "z = r\"$\\sum_{t=0}^{\\infty}g_{t}(x)$\"\n",
    "\n",
    "#r\" \"\" 사용해서 문자로취급"
   ]
  },
  {
   "cell_type": "code",
   "execution_count": 18,
   "id": "5e18b6d4",
   "metadata": {},
   "outputs": [
    {
     "name": "stdout",
     "output_type": "stream",
     "text": [
      "Hello world, this is an infinite series$\\sum_{t=0}^{\\infty}g_{t}(x)$\n"
     ]
    }
   ],
   "source": [
    "print(y + z)"
   ]
  },
  {
   "cell_type": "code",
   "execution_count": 16,
   "id": "45c4d5a5",
   "metadata": {},
   "outputs": [],
   "source": [
    "import matplotlib.pyplot as plt"
   ]
  },
  {
   "cell_type": "code",
   "execution_count": 22,
   "id": "5b3fbf57",
   "metadata": {},
   "outputs": [
    {
     "data": {
      "image/png": "[encoded data removed]",
      "text/plain": [
       "<Figure size 640x480 with 1 Axes>"
      ]
     },
     "metadata": {},
     "output_type": "display_data"
    }
   ],
   "source": [
    "#create a figure object\n",
    "plt.figure()\n",
    "\n",
    "#Create a title, using string from a\n",
    "plt.title(y+z)\n",
    "\n",
    "#render to screen\n",
    "plt.show()"
   ]
  },
  {
   "cell_type": "code",
   "execution_count": 27,
   "id": "420f48d6",
   "metadata": {},
   "outputs": [],
   "source": [
    "a =r\"$\\cos(x)$\""
   ]
  },
  {
   "cell_type": "code",
   "execution_count": 28,
   "id": "d4afb2d2",
   "metadata": {},
   "outputs": [
    {
     "data": {
      "text/plain": [
       "3.141592653589793"
      ]
     },
     "execution_count": 28,
     "metadata": {},
     "output_type": "execute_result"
    }
   ],
   "source": [
    "import numpy as np\n",
    "\n",
    "np.pi"
   ]
  },
  {
   "cell_type": "code",
   "execution_count": 48,
   "id": "9fced93c",
   "metadata": {},
   "outputs": [],
   "source": [
    "x = np.linspace(-4.0, 4.0*np.pi, 200)\n",
    "fx = np.cos(x)\n",
    "\n",
    "gx = np.sin(x)"
   ]
  },
  {
   "cell_type": "code",
   "execution_count": 55,
   "id": "a8296ef7",
   "metadata": {},
   "outputs": [
    {
     "data": {
      "text/plain": [
       "<function matplotlib.pyplot.show(close=None, block=None)>"
      ]
     },
     "execution_count": 55,
     "metadata": {},
     "output_type": "execute_result"
    },
    {
     "data": {
      "image/png": "[encoded data removed]",
      "text/plain": [
       "<Figure size 640x480 with 1 Axes>"
      ]
     },
     "metadata": {},
     "output_type": "display_data"
    }
   ],
   "source": [
    "#create a figure object\n",
    "plt.figure()\n",
    "\n",
    "#Create a title, using string from a\n",
    "plt.title(\"f(x)\")\n",
    "\n",
    "#render to screen\n",
    "plt.plot(x, fx, label = a )\n",
    "plt.plot(x, gx, label = r\"$\\sin(x)$\")\n",
    "\n",
    "#create a legend\n",
    "plt.legend()\n",
    "\n",
    "plt.show"
   ]
  },
  {
   "cell_type": "code",
   "execution_count": null,
   "id": "18e08634",
   "metadata": {},
   "outputs": [],
   "source": []
  },
  {
   "cell_type": "code",
   "execution_count": null,
   "id": "bceb7c7d",
   "metadata": {},
   "outputs": [],
   "source": []
  }
 ],
 "metadata": {
  "kernelspec": {
   "display_name": "Python 3 (ipykernel)",
   "language": "python",
   "name": "python3"
  },
  "language_info": {
   "codemirror_mode": {
    "name": "ipython",
    "version": 3
   },
   "file_extension": ".py",
   "mimetype": "text/x-python",
   "name": "python",
   "nbconvert_exporter": "python",
   "pygments_lexer": "ipython3",
   "version": "3.9.13"
  }
 },
 "nbformat": 4,
 "nbformat_minor": 5
}
